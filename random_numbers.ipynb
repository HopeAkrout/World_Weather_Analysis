{
 "cells": [
  {
   "cell_type": "code",
   "execution_count": 1,
   "id": "be6c38d3",
   "metadata": {},
   "outputs": [],
   "source": [
    "# Import the random module.\n",
    "import random"
   ]
  },
  {
   "cell_type": "code",
   "execution_count": 6,
   "id": "ed26374d",
   "metadata": {},
   "outputs": [
    {
     "data": {
      "text/plain": [
       "-43.32803889638929"
      ]
     },
     "execution_count": 6,
     "metadata": {},
     "output_type": "execute_result"
    }
   ],
   "source": [
    "random_number = random.randint(-90, 90) + random.random()\n",
    "random_number"
   ]
  },
  {
   "cell_type": "code",
   "execution_count": 7,
   "id": "4bea40df",
   "metadata": {},
   "outputs": [],
   "source": [
    "x = 1\n",
    "latitudes = []\n",
    "while x < 11:\n",
    "    random_lat = random.randint(-90, 89) + random.random()\n",
    "    latitudes.append(random_lat)\n",
    "    x += 1"
   ]
  },
  {
   "cell_type": "code",
   "execution_count": 9,
   "id": "0079b10e",
   "metadata": {},
   "outputs": [
    {
     "data": {
      "text/plain": [
       "[-73.73575585013351,\n",
       " -69.87083540653559,\n",
       " 74.78586360181406,\n",
       " 7.748149677040891,\n",
       " -37.574155458473776,\n",
       " 59.31476115060503,\n",
       " -54.21423635089859,\n",
       " -41.05606773268498,\n",
       " 24.502690533523914,\n",
       " 6.288699408350175]"
      ]
     },
     "execution_count": 9,
     "metadata": {},
     "output_type": "execute_result"
    }
   ],
   "source": [
    "latitudes"
   ]
  },
  {
   "cell_type": "code",
   "execution_count": 10,
   "id": "3909c71d",
   "metadata": {},
   "outputs": [
    {
     "data": {
      "text/plain": [
       "57"
      ]
     },
     "execution_count": 10,
     "metadata": {},
     "output_type": "execute_result"
    }
   ],
   "source": [
    "random.randrange(-90, 90, step=1)"
   ]
  },
  {
   "cell_type": "code",
   "execution_count": 11,
   "id": "2fe57416",
   "metadata": {},
   "outputs": [
    {
     "data": {
      "text/plain": [
       "45"
      ]
     },
     "execution_count": 11,
     "metadata": {},
     "output_type": "execute_result"
    }
   ],
   "source": [
    "random.randrange(-90, 90, step=3)"
   ]
  },
  {
   "cell_type": "code",
   "execution_count": 12,
   "id": "498d74c9",
   "metadata": {},
   "outputs": [
    {
     "data": {
      "text/plain": [
       "81.27612528341743"
      ]
     },
     "execution_count": 12,
     "metadata": {},
     "output_type": "execute_result"
    }
   ],
   "source": [
    "random.uniform(-90, 90)"
   ]
  },
  {
   "cell_type": "code",
   "execution_count": 13,
   "id": "af68fe33",
   "metadata": {},
   "outputs": [],
   "source": [
    "# Import the NumPy module.\n",
    "import numpy as np"
   ]
  },
  {
   "cell_type": "code",
   "execution_count": 14,
   "id": "ce959e33",
   "metadata": {},
   "outputs": [
    {
     "data": {
      "text/plain": [
       "-5.8153838951697026"
      ]
     },
     "execution_count": 14,
     "metadata": {},
     "output_type": "execute_result"
    }
   ],
   "source": [
    "np.random.uniform(-90.000, 90.000)"
   ]
  },
  {
   "cell_type": "code",
   "execution_count": 15,
   "id": "a48fac48",
   "metadata": {},
   "outputs": [
    {
     "data": {
      "text/plain": [
       "-29.978403997071787"
      ]
     },
     "execution_count": 15,
     "metadata": {},
     "output_type": "execute_result"
    }
   ],
   "source": [
    "np.random.uniform(low=-90, high=90)"
   ]
  },
  {
   "cell_type": "code",
   "execution_count": 16,
   "id": "af3ce911",
   "metadata": {},
   "outputs": [
    {
     "data": {
      "text/plain": [
       "array([-41.6732386 ,  15.79736239,  31.95675053, -87.02171013,\n",
       "        35.24429519,  34.46653322,  81.50158399, -38.31159506,\n",
       "        35.38713504, -72.77673291,  48.65368629,  29.55351037,\n",
       "        42.28987543, -43.04777039, -38.18415763, -39.7387308 ,\n",
       "        35.486367  , -70.24010028,  65.68344223,  88.37799988,\n",
       "       -33.94492134, -25.12028941, -48.6747156 ,  30.92644836,\n",
       "       -17.76255029,  80.04269176,   3.08243293,  79.16785892,\n",
       "        63.52166624,  76.04197122, -38.90850955,  25.02187743,\n",
       "        28.96709515, -80.95595021, -12.41898869,  57.80227303,\n",
       "        73.15742818, -61.28425331,  42.74471876, -83.60226732,\n",
       "       -78.58511136,  75.93626477,  14.56642435, -17.44877885,\n",
       "       -64.43000776,  49.73202011, -33.47762698,   5.13424296,\n",
       "       -45.60877818, -10.5672058 ])"
      ]
     },
     "execution_count": 16,
     "metadata": {},
     "output_type": "execute_result"
    }
   ],
   "source": [
    "np.random.uniform(-90.000, 90.000, size=50)"
   ]
  },
  {
   "cell_type": "code",
   "execution_count": 17,
   "id": "24d6a22e",
   "metadata": {},
   "outputs": [],
   "source": [
    "# Import timeit.\n",
    "import timeit"
   ]
  },
  {
   "cell_type": "code",
   "execution_count": 18,
   "id": "0acb3796",
   "metadata": {},
   "outputs": [
    {
     "name": "stdout",
     "output_type": "stream",
     "text": [
      "14.2 µs ± 329 ns per loop (mean ± std. dev. of 7 runs, 100000 loops each)\n"
     ]
    }
   ],
   "source": [
    "%timeit np.random.uniform(-90.000, 90.000, size=1500)"
   ]
  },
  {
   "cell_type": "code",
   "execution_count": 19,
   "id": "8c85b02d",
   "metadata": {},
   "outputs": [
    {
     "name": "stdout",
     "output_type": "stream",
     "text": [
      "2.27 ms ± 132 µs per loop (mean ± std. dev. of 7 runs, 100 loops each)\n"
     ]
    }
   ],
   "source": [
    "def latitudes(size):\n",
    "    latitudes = []\n",
    "    x = 0\n",
    "    while x < (size):\n",
    "        random_lat = random.randint(-90, 90) + random.random()\n",
    "        latitudes.append(random_lat)\n",
    "        x += 1\n",
    "    return latitudes\n",
    "# Call the function with 1500.\n",
    "%timeit latitudes(1500)"
   ]
  }
 ],
 "metadata": {
  "kernelspec": {
   "display_name": "Python 3 (ipykernel)",
   "language": "python",
   "name": "python3"
  },
  "language_info": {
   "codemirror_mode": {
    "name": "ipython",
    "version": 3
   },
   "file_extension": ".py",
   "mimetype": "text/x-python",
   "name": "python",
   "nbconvert_exporter": "python",
   "pygments_lexer": "ipython3",
   "version": "3.7.13"
  }
 },
 "nbformat": 4,
 "nbformat_minor": 5
}
